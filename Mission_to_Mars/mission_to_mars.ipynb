{
 "cells": [
  {
   "cell_type": "code",
   "execution_count": 113,
   "metadata": {},
   "outputs": [],
   "source": [
    "#Importations\n",
    "import pandas as pd\n",
    "from splinter import Browser\n",
    "from bs4 import BeautifulSoup\n",
    "from webdriver_manager.chrome import ChromeDriverManager\n",
    "from splinter.exceptions import ElementDoesNotExist"
   ]
  },
  {
   "cell_type": "code",
   "execution_count": 114,
   "metadata": {},
   "outputs": [
    {
     "name": "stderr",
     "output_type": "stream",
     "text": [
      "[WDM] - Current google-chrome version is 87.0.4280\n",
      "[WDM] - Get LATEST driver version for 87.0.4280\n",
      "[WDM] - Driver [C:\\Users\\zachg\\.wdm\\drivers\\chromedriver\\win32\\87.0.4280.88\\chromedriver.exe] found in cache\n"
     ]
    },
    {
     "name": "stdout",
     "output_type": "stream",
     "text": [
      " \n"
     ]
    }
   ],
   "source": [
    "#Get Chrome nice and ready\n",
    "executable_path = {'executable_path': ChromeDriverManager().install()}\n",
    "browser = Browser('chrome', **executable_path, headless=False)"
   ]
  },
  {
   "cell_type": "code",
   "execution_count": 57,
   "metadata": {},
   "outputs": [],
   "source": [
    "#Set news scraping parameters\n",
    "url = 'https://mars.nasa.gov/news/'\n",
    "browser.visit(url)\n",
    "html = browser.html\n",
    "soup = BeautifulSoup(html, 'html.parser')\n",
    "\n",
    "#Use the power of Soup to find what we're looking for\n",
    "titles_found = soup.find_all('div', class_='content_title', limit=2)\n",
    "paragraphs_found = soup.find_all('div', class_='article_teaser_body', limit=1)\n",
    "\n",
    "#Make some lists for our soup... Bowels, if you will\n",
    "headlines = []\n",
    "paragraphs= []\n",
    "\n",
    "#Plop the right kind of soup into the headlines bowel.\n",
    "for title in titles_found:\n",
    "    if (title.a):\n",
    "        if(title.a.text):\n",
    "            headlines.append(title.a.text)\n",
    "\n",
    "#Plop the next kind of soup into the summary text bowel\n",
    "for paragraph in paragraphs_found:\n",
    "    if(paragraph):\n",
    "        if(paragraph.text):\n",
    "            paragraphs.append(paragraph.text)"
   ]
  },
  {
   "cell_type": "code",
   "execution_count": 79,
   "metadata": {},
   "outputs": [],
   "source": [
    "#Featured picture scraping parameters\n",
    "url='https://www.jpl.nasa.gov/spaceimages/?search=&category=Mars'\n",
    "browser.visit(url)\n",
    "\n",
    "#Click Through Stuff\n",
    "browser.links.find_by_partial_text('FULL IMAGE').click()\n",
    "browser.links.find_by_partial_text('more info').click()\n",
    "\n",
    "#Set the soup\n",
    "html = browser.html\n",
    "soup = BeautifulSoup(html, 'html.parser')\n",
    "\n",
    "#Grab the Image\n",
    "text_soup = soup.find_all(\"figure\", class_=\"lede\")\n",
    "figure = text_soup[0]\n",
    "image_soup = figure.find_all(\"a\", href = True)\n",
    "URL_bit = image_soup[0][\"href\"]\n",
    "Full_URL = f'https://www.jpl.nasa.gov{URL_bit}'"
   ]
  },
  {
   "cell_type": "code",
   "execution_count": 67,
   "metadata": {},
   "outputs": [
    {
     "data": {
      "text/html": [
       "<div>\n",
       "<style scoped>\n",
       "    .dataframe tbody tr th:only-of-type {\n",
       "        vertical-align: middle;\n",
       "    }\n",
       "\n",
       "    .dataframe tbody tr th {\n",
       "        vertical-align: top;\n",
       "    }\n",
       "\n",
       "    .dataframe thead th {\n",
       "        text-align: right;\n",
       "    }\n",
       "</style>\n",
       "<table border=\"1\" class=\"dataframe\">\n",
       "  <thead>\n",
       "    <tr style=\"text-align: right;\">\n",
       "      <th></th>\n",
       "      <th>0</th>\n",
       "      <th>1</th>\n",
       "    </tr>\n",
       "  </thead>\n",
       "  <tbody>\n",
       "    <tr>\n",
       "      <th>0</th>\n",
       "      <td>Equatorial Diameter:</td>\n",
       "      <td>6,792 km</td>\n",
       "    </tr>\n",
       "    <tr>\n",
       "      <th>1</th>\n",
       "      <td>Polar Diameter:</td>\n",
       "      <td>6,752 km</td>\n",
       "    </tr>\n",
       "    <tr>\n",
       "      <th>2</th>\n",
       "      <td>Mass:</td>\n",
       "      <td>6.39 × 10^23 kg (0.11 Earths)</td>\n",
       "    </tr>\n",
       "    <tr>\n",
       "      <th>3</th>\n",
       "      <td>Moons:</td>\n",
       "      <td>2 (Phobos &amp; Deimos)</td>\n",
       "    </tr>\n",
       "    <tr>\n",
       "      <th>4</th>\n",
       "      <td>Orbit Distance:</td>\n",
       "      <td>227,943,824 km (1.38 AU)</td>\n",
       "    </tr>\n",
       "    <tr>\n",
       "      <th>5</th>\n",
       "      <td>Orbit Period:</td>\n",
       "      <td>687 days (1.9 years)</td>\n",
       "    </tr>\n",
       "    <tr>\n",
       "      <th>6</th>\n",
       "      <td>Surface Temperature:</td>\n",
       "      <td>-87 to -5 °C</td>\n",
       "    </tr>\n",
       "    <tr>\n",
       "      <th>7</th>\n",
       "      <td>First Record:</td>\n",
       "      <td>2nd millennium BC</td>\n",
       "    </tr>\n",
       "    <tr>\n",
       "      <th>8</th>\n",
       "      <td>Recorded By:</td>\n",
       "      <td>Egyptian astronomers</td>\n",
       "    </tr>\n",
       "  </tbody>\n",
       "</table>\n",
       "</div>"
      ],
      "text/plain": [
       "                      0                              1\n",
       "0  Equatorial Diameter:                       6,792 km\n",
       "1       Polar Diameter:                       6,752 km\n",
       "2                 Mass:  6.39 × 10^23 kg (0.11 Earths)\n",
       "3                Moons:            2 (Phobos & Deimos)\n",
       "4       Orbit Distance:       227,943,824 km (1.38 AU)\n",
       "5         Orbit Period:           687 days (1.9 years)\n",
       "6  Surface Temperature:                   -87 to -5 °C\n",
       "7         First Record:              2nd millennium BC\n",
       "8          Recorded By:           Egyptian astronomers"
      ]
     },
     "execution_count": 67,
     "metadata": {},
     "output_type": "execute_result"
    }
   ],
   "source": [
    "#Fact Scraping parameters\n",
    "url = 'https://space-facts.com/mars/'\n",
    "tables = pd.read_html(url)\n",
    "Mars_facts_DF = tables[0]\n",
    "Mars_facts_DF"
   ]
  },
  {
   "cell_type": "code",
   "execution_count": 131,
   "metadata": {},
   "outputs": [],
   "source": [
    "#Initial Hemisphere List\n",
    "Hemisphere_pics = []"
   ]
  },
  {
   "cell_type": "code",
   "execution_count": 132,
   "metadata": {},
   "outputs": [],
   "source": [
    "#Hemisphere 1 \n",
    "url = 'https://astrogeology.usgs.gov/search/results?q=hemisphere+enhanced&k1=target&v1=Mars'\n",
    "#Browser work\n",
    "browser.visit(url)\n",
    "browser.links.find_by_partial_text('Cerberus Hemisphere Enhanced').click()\n",
    "#Prepare the Soup for Hemisphere 1\n",
    "html = browser.html\n",
    "soup = BeautifulSoup(html, 'html.parser')\n",
    "text_soup = soup.find_all(\"div\", class_=\"downloads\")\n",
    "figure = text_soup[0]\n",
    "image_soup = figure.find_all(\"a\", href = True)\n",
    "URL_bit = image_soup[0][\"href\"]\n",
    "Hemisphere_1_dict = {\"title\": \"Cerberus Hemisphere\", \"img_url\": URL_bit}\n",
    "Hemisphere_1_copy = Hemisphere_1_dict.copy()\n",
    "Hemisphere_pics.append(Hemisphere_1_copy)"
   ]
  },
  {
   "cell_type": "code",
   "execution_count": 134,
   "metadata": {},
   "outputs": [],
   "source": [
    "#Hemisphere 2 \n",
    "url = 'https://astrogeology.usgs.gov/search/results?q=hemisphere+enhanced&k1=target&v1=Mars'\n",
    "#Browser work\n",
    "browser.visit(url)\n",
    "browser.links.find_by_partial_text('Schiaparelli Hemisphere Enhanced').click()\n",
    "#Prepare the Soup for Hemisphere 2\n",
    "html = browser.html\n",
    "soup = BeautifulSoup(html, 'html.parser')\n",
    "text_soup = soup.find_all(\"div\", class_=\"downloads\")\n",
    "figure = text_soup[0]\n",
    "image_soup = figure.find_all(\"a\", href = True)\n",
    "URL_bit = image_soup[0][\"href\"]\n",
    "Hemisphere_2_dict = {\"title\": \"Schiaparelli Hemisphere\", \"img_url\": URL_bit}\n",
    "Hemisphere_2_copy = Hemisphere_2_dict.copy()\n",
    "Hemisphere_pics.append(Hemisphere_2_copy)"
   ]
  },
  {
   "cell_type": "code",
   "execution_count": 136,
   "metadata": {},
   "outputs": [],
   "source": [
    "#Hemisphere 3 \n",
    "url = 'https://astrogeology.usgs.gov/search/results?q=hemisphere+enhanced&k1=target&v1=Mars'\n",
    "#Browser work\n",
    "browser.visit(url)\n",
    "browser.links.find_by_partial_text('Syrtis Major Hemisphere Enhanced').click()\n",
    "#Prepare the Soup for Hemisphere 3\n",
    "html = browser.html\n",
    "soup = BeautifulSoup(html, 'html.parser')\n",
    "text_soup = soup.find_all(\"div\", class_=\"downloads\")\n",
    "figure = text_soup[0]\n",
    "image_soup = figure.find_all(\"a\", href = True)\n",
    "URL_bit = image_soup[0][\"href\"]\n",
    "Hemisphere_3_dict = {\"title\": \"Syrtis Major Hemisphere\", \"img_url\": URL_bit}\n",
    "Hemisphere_3_copy = Hemisphere_3_dict.copy()\n",
    "Hemisphere_pics.append(Hemisphere_3_copy)"
   ]
  },
  {
   "cell_type": "code",
   "execution_count": 137,
   "metadata": {},
   "outputs": [],
   "source": [
    "#Hemisphere 4 \n",
    "url = 'https://astrogeology.usgs.gov/search/results?q=hemisphere+enhanced&k1=target&v1=Mars'\n",
    "#Browser work\n",
    "browser.visit(url)\n",
    "browser.links.find_by_partial_text('Valles Marineris Hemisphere Enhanced').click()\n",
    "#Prepare the Soup for Hemisphere 4\n",
    "html = browser.html\n",
    "soup = BeautifulSoup(html, 'html.parser')\n",
    "text_soup = soup.find_all(\"div\", class_=\"downloads\")\n",
    "figure = text_soup[0]\n",
    "image_soup = figure.find_all(\"a\", href = True)\n",
    "URL_bit = image_soup[0][\"href\"]\n",
    "Hemisphere_4_dict = {\"title\": \"Valles Marineris Hemisphere\", \"img_url\": URL_bit}\n",
    "Hemisphere_4_copy = Hemisphere_4_dict.copy()\n",
    "Hemisphere_pics.append(Hemisphere_4_copy)"
   ]
  }
 ],
 "metadata": {
  "kernelspec": {
   "display_name": "Python [conda env:PythonData]",
   "language": "python",
   "name": "conda-env-PythonData-py"
  },
  "language_info": {
   "codemirror_mode": {
    "name": "ipython",
    "version": 3
   },
   "file_extension": ".py",
   "mimetype": "text/x-python",
   "name": "python",
   "nbconvert_exporter": "python",
   "pygments_lexer": "ipython3",
   "version": "3.6.10"
  }
 },
 "nbformat": 4,
 "nbformat_minor": 4
}
