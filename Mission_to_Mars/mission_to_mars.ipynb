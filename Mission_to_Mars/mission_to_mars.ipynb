{
 "cells": [
  {
   "cell_type": "code",
   "execution_count": 139,
   "metadata": {},
   "outputs": [],
   "source": [
    "#Importations\n",
    "import pandas as pd\n",
    "from splinter import Browser\n",
    "from bs4 import BeautifulSoup\n",
    "#from webdriver_manager.chrome import ChromeDriverManager\n",
    "from splinter.exceptions import ElementDoesNotExist"
   ]
  },
  {
   "cell_type": "code",
   "execution_count": 149,
   "metadata": {},
   "outputs": [
    {
     "name": "stderr",
     "output_type": "stream",
     "text": [
      "[WDM] - Current google-chrome version is 87.0.4280\n",
      "[WDM] - Get LATEST driver version for 87.0.4280\n",
      "[WDM] - Driver [C:\\Users\\zachg\\.wdm\\drivers\\chromedriver\\win32\\87.0.4280.88\\chromedriver.exe] found in cache\n"
     ]
    },
    {
     "name": "stdout",
     "output_type": "stream",
     "text": [
      " \n"
     ]
    }
   ],
   "source": [
    "#Get Chrome nice and ready\n",
    "executable_path = {'executable_path': ChromeDriverManager().install()}\n",
    "browser = Browser('chrome', **executable_path, headless=False)"
   ]
  },
  {
   "cell_type": "code",
   "execution_count": 141,
   "metadata": {},
   "outputs": [],
   "source": [
    "#Set news scraping parameters\n",
    "url = 'https://mars.nasa.gov/news/'\n",
    "browser.visit(url)\n",
    "html = browser.html\n",
    "soup = BeautifulSoup(html, 'html.parser')\n",
    "\n",
    "#Use the power of Soup to find what we're looking for\n",
    "titles_found = soup.find_all('div', class_='content_title', limit=2)\n",
    "paragraphs_found = soup.find_all('div', class_='article_teaser_body', limit=1)\n",
    "\n",
    "#Make some lists for our soup... Bowels, if you will\n",
    "headlines = []\n",
    "paragraphs= []\n",
    "\n",
    "#Plop the right kind of soup into the headlines bowel.\n",
    "for title in titles_found:\n",
    "    if (title.a):\n",
    "        if(title.a.text):\n",
    "            headlines.append(title.a.text)\n",
    "\n",
    "#Plop the next kind of soup into the summary text bowel\n",
    "for paragraph in paragraphs_found:\n",
    "    if(paragraph):\n",
    "        if(paragraph.text):\n",
    "            paragraphs.append(paragraph.text)"
   ]
  },
  {
   "cell_type": "code",
   "execution_count": 142,
   "metadata": {},
   "outputs": [],
   "source": [
    "#Featured picture scraping parameters\n",
    "url='https://www.jpl.nasa.gov/spaceimages/?search=&category=Mars'\n",
    "browser.visit(url)\n",
    "\n",
    "#Click Through Stuff\n",
    "browser.links.find_by_partial_text('FULL IMAGE').click()\n",
    "browser.links.find_by_partial_text('more info').click()\n",
    "\n",
    "#Set the soup\n",
    "html = browser.html\n",
    "soup = BeautifulSoup(html, 'html.parser')\n",
    "\n",
    "#Grab the Image\n",
    "text_soup = soup.find_all(\"figure\", class_=\"lede\")\n",
    "figure = text_soup[0]\n",
    "image_soup = figure.find_all(\"a\", href = True)\n",
    "URL_bit = image_soup[0][\"href\"]\n",
    "Full_URL = f'https://www.jpl.nasa.gov{URL_bit}'"
   ]
  },
  {
   "cell_type": "code",
   "execution_count": 143,
   "metadata": {},
   "outputs": [],
   "source": [
    "#Fact Scraping parameters\n",
    "url = 'https://space-facts.com/mars/'\n",
    "tables = pd.read_html(url)\n",
    "Mars_facts_DF = tables[0]"
   ]
  },
  {
   "cell_type": "code",
   "execution_count": 144,
   "metadata": {},
   "outputs": [],
   "source": [
    "#Initial Hemisphere List\n",
    "Hemisphere_pics = []"
   ]
  },
  {
   "cell_type": "code",
   "execution_count": 145,
   "metadata": {},
   "outputs": [],
   "source": [
    "#Hemisphere 1 \n",
    "url = 'https://astrogeology.usgs.gov/search/results?q=hemisphere+enhanced&k1=target&v1=Mars'\n",
    "#Browser work\n",
    "browser.visit(url)\n",
    "browser.links.find_by_partial_text('Cerberus Hemisphere Enhanced').click()\n",
    "#Prepare the Soup for Hemisphere 1\n",
    "html = browser.html\n",
    "soup = BeautifulSoup(html, 'html.parser')\n",
    "text_soup = soup.find_all(\"div\", class_=\"downloads\")\n",
    "figure = text_soup[0]\n",
    "image_soup = figure.find_all(\"a\", href = True)\n",
    "URL_bit = image_soup[0][\"href\"]\n",
    "Hemisphere_1_dict = {\"title\": \"Cerberus Hemisphere\", \"img_url\": URL_bit}\n",
    "Hemisphere_1_copy = Hemisphere_1_dict.copy()\n",
    "Hemisphere_pics.append(Hemisphere_1_copy)"
   ]
  },
  {
   "cell_type": "code",
   "execution_count": 146,
   "metadata": {},
   "outputs": [],
   "source": [
    "#Hemisphere 2 \n",
    "url = 'https://astrogeology.usgs.gov/search/results?q=hemisphere+enhanced&k1=target&v1=Mars'\n",
    "#Browser work\n",
    "browser.visit(url)\n",
    "browser.links.find_by_partial_text('Schiaparelli Hemisphere Enhanced').click()\n",
    "#Prepare the Soup for Hemisphere 2\n",
    "html = browser.html\n",
    "soup = BeautifulSoup(html, 'html.parser')\n",
    "text_soup = soup.find_all(\"div\", class_=\"downloads\")\n",
    "figure = text_soup[0]\n",
    "image_soup = figure.find_all(\"a\", href = True)\n",
    "URL_bit = image_soup[0][\"href\"]\n",
    "Hemisphere_2_dict = {\"title\": \"Schiaparelli Hemisphere\", \"img_url\": URL_bit}\n",
    "Hemisphere_2_copy = Hemisphere_2_dict.copy()\n",
    "Hemisphere_pics.append(Hemisphere_2_copy)"
   ]
  },
  {
   "cell_type": "code",
   "execution_count": 147,
   "metadata": {},
   "outputs": [],
   "source": [
    "#Hemisphere 3 \n",
    "url = 'https://astrogeology.usgs.gov/search/results?q=hemisphere+enhanced&k1=target&v1=Mars'\n",
    "#Browser work\n",
    "browser.visit(url)\n",
    "browser.links.find_by_partial_text('Syrtis Major Hemisphere Enhanced').click()\n",
    "#Prepare the Soup for Hemisphere 3\n",
    "html = browser.html\n",
    "soup = BeautifulSoup(html, 'html.parser')\n",
    "text_soup = soup.find_all(\"div\", class_=\"downloads\")\n",
    "figure = text_soup[0]\n",
    "image_soup = figure.find_all(\"a\", href = True)\n",
    "URL_bit = image_soup[0][\"href\"]\n",
    "Hemisphere_3_dict = {\"title\": \"Syrtis Major Hemisphere\", \"img_url\": URL_bit}\n",
    "Hemisphere_3_copy = Hemisphere_3_dict.copy()\n",
    "Hemisphere_pics.append(Hemisphere_3_copy)"
   ]
  },
  {
   "cell_type": "code",
   "execution_count": 148,
   "metadata": {},
   "outputs": [],
   "source": [
    "#Hemisphere 4 \n",
    "url = 'https://astrogeology.usgs.gov/search/results?q=hemisphere+enhanced&k1=target&v1=Mars'\n",
    "#Browser work\n",
    "browser.visit(url)\n",
    "browser.links.find_by_partial_text('Valles Marineris Hemisphere Enhanced').click()\n",
    "#Prepare the Soup for Hemisphere 4\n",
    "html = browser.html\n",
    "soup = BeautifulSoup(html, 'html.parser')\n",
    "text_soup = soup.find_all(\"div\", class_=\"downloads\")\n",
    "figure = text_soup[0]\n",
    "image_soup = figure.find_all(\"a\", href = True)\n",
    "URL_bit = image_soup[0][\"href\"]\n",
    "Hemisphere_4_dict = {\"title\": \"Valles Marineris Hemisphere\", \"img_url\": URL_bit}\n",
    "Hemisphere_4_copy = Hemisphere_4_dict.copy()\n",
    "Hemisphere_pics.append(Hemisphere_4_copy)"
   ]
  },
  {
   "cell_type": "code",
   "execution_count": 150,
   "metadata": {},
   "outputs": [],
   "source": [
    "#Append it all\n",
    "Allspaceinfo = {\n",
    "        \"Headline\" : headlines,\n",
    "        \"Teaser\" : paragraphs,\n",
    "        \"Featured URL\" : Full_URL,\n",
    "        \"Table Data\": Mars_facts_DF,\n",
    "        \"Hemisphere Pics\" : Hemisphere_pics\n",
    "    }"
   ]
  },
  {
   "cell_type": "code",
   "execution_count": 151,
   "metadata": {},
   "outputs": [
    {
     "data": {
      "text/plain": [
       "{'Headline': ['MOXIE Could Help Future Rockets Launch Off Mars'],\n",
       " 'Teaser': [\"NASA's Perseverance rover carries a device to convert Martian air into oxygen that, if produced on a larger scale, could be used not just for breathing, but also for fuel.\"],\n",
       " 'Featured URL': 'https://www.jpl.nasa.gov/spaceimages/images/largesize/PIA22831_hires.jpg',\n",
       " 'Table Data':                       0                              1\n",
       " 0  Equatorial Diameter:                       6,792 km\n",
       " 1       Polar Diameter:                       6,752 km\n",
       " 2                 Mass:  6.39 × 10^23 kg (0.11 Earths)\n",
       " 3                Moons:            2 (Phobos & Deimos)\n",
       " 4       Orbit Distance:       227,943,824 km (1.38 AU)\n",
       " 5         Orbit Period:           687 days (1.9 years)\n",
       " 6  Surface Temperature:                   -87 to -5 °C\n",
       " 7         First Record:              2nd millennium BC\n",
       " 8          Recorded By:           Egyptian astronomers,\n",
       " 'Hemisphere Pics': [{'title': 'Cerberus Hemisphere',\n",
       "   'img_url': 'https://astropedia.astrogeology.usgs.gov/download/Mars/Viking/cerberus_enhanced.tif/full.jpg'},\n",
       "  {'title': 'Schiaparelli Hemisphere',\n",
       "   'img_url': 'https://astropedia.astrogeology.usgs.gov/download/Mars/Viking/schiaparelli_enhanced.tif/full.jpg'},\n",
       "  {'title': 'Syrtis Major Hemisphere',\n",
       "   'img_url': 'https://astropedia.astrogeology.usgs.gov/download/Mars/Viking/syrtis_major_enhanced.tif/full.jpg'},\n",
       "  {'title': 'Valles Marineris Hemisphere',\n",
       "   'img_url': 'https://astropedia.astrogeology.usgs.gov/download/Mars/Viking/valles_marineris_enhanced.tif/full.jpg'}]}"
      ]
     },
     "execution_count": 151,
     "metadata": {},
     "output_type": "execute_result"
    }
   ],
   "source": [
    "Allspaceinfo"
   ]
  },
  {
   "cell_type": "code",
   "execution_count": null,
   "metadata": {},
   "outputs": [],
   "source": []
  }
 ],
 "metadata": {
  "kernelspec": {
   "display_name": "Python [conda env:PythonData]",
   "language": "python",
   "name": "conda-env-PythonData-py"
  },
  "language_info": {
   "codemirror_mode": {
    "name": "ipython",
    "version": 3
   },
   "file_extension": ".py",
   "mimetype": "text/x-python",
   "name": "python",
   "nbconvert_exporter": "python",
   "pygments_lexer": "ipython3",
   "version": "3.6.10"
  }
 },
 "nbformat": 4,
 "nbformat_minor": 4
}
